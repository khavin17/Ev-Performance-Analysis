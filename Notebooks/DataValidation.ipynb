{
 "cells": [
  {
   "cell_type": "markdown",
   "id": "4533467f",
   "metadata": {},
   "source": [
    "# Data Validation Electric Vehicles\n"
   ]
  },
  {
   "cell_type": "code",
   "execution_count": 22,
   "id": "ecf6f851",
   "metadata": {},
   "outputs": [],
   "source": [
    "import pandas as pd"
   ]
  },
  {
   "cell_type": "code",
   "execution_count": 23,
   "id": "f2a31ac1",
   "metadata": {},
   "outputs": [
    {
     "name": "stdout",
     "output_type": "stream",
     "text": [
      "<class 'pandas.core.frame.DataFrame'>\n",
      "RangeIndex: 478 entries, 0 to 477\n",
      "Data columns (total 22 columns):\n",
      " #   Column                     Non-Null Count  Dtype  \n",
      "---  ------                     --------------  -----  \n",
      " 0   brand                      478 non-null    object \n",
      " 1   model                      477 non-null    object \n",
      " 2   top_speed_kmh              478 non-null    int64  \n",
      " 3   battery_capacity_kWh       478 non-null    float64\n",
      " 4   battery_type               478 non-null    object \n",
      " 5   number_of_cells            276 non-null    float64\n",
      " 6   torque_nm                  471 non-null    float64\n",
      " 7   efficiency_wh_per_km       478 non-null    int64  \n",
      " 8   range_km                   478 non-null    int64  \n",
      " 9   acceleration_0_100_s       478 non-null    float64\n",
      " 10  fast_charging_power_kw_dc  477 non-null    float64\n",
      " 11  fast_charge_port           477 non-null    object \n",
      " 12  towing_capacity_kg         452 non-null    float64\n",
      " 13  cargo_volume_l             477 non-null    object \n",
      " 14  seats                      478 non-null    int64  \n",
      " 15  drivetrain                 478 non-null    object \n",
      " 16  segment                    478 non-null    object \n",
      " 17  length_mm                  478 non-null    int64  \n",
      " 18  width_mm                   478 non-null    int64  \n",
      " 19  height_mm                  478 non-null    int64  \n",
      " 20  car_body_type              478 non-null    object \n",
      " 21  source_url                 478 non-null    object \n",
      "dtypes: float64(6), int64(7), object(9)\n",
      "memory usage: 82.3+ KB\n"
     ]
    }
   ],
   "source": [
    "df = pd.read_csv('electric_vehicles_spec_2025.csv')\n",
    "df.info()"
   ]
  },
  {
   "cell_type": "markdown",
   "id": "1e1658cb",
   "metadata": {},
   "source": [
    "## Raw Data"
   ]
  },
  {
   "cell_type": "code",
   "execution_count": null,
   "id": "dda669db",
   "metadata": {},
   "outputs": [
    {
     "name": "stdout",
     "output_type": "stream",
     "text": [
      "Missing Values :\n",
      "\n",
      "brand                          0\n",
      "model                          1\n",
      "top_speed_kmh                  0\n",
      "battery_capacity_kWh           0\n",
      "battery_type                   0\n",
      "number_of_cells              202\n",
      "torque_nm                      7\n",
      "efficiency_wh_per_km           0\n",
      "range_km                       0\n",
      "acceleration_0_100_s           0\n",
      "fast_charging_power_kw_dc      1\n",
      "fast_charge_port               1\n",
      "towing_capacity_kg            26\n",
      "cargo_volume_l                 1\n",
      "seats                          0\n",
      "drivetrain                     0\n",
      "segment                        0\n",
      "length_mm                      0\n",
      "width_mm                       0\n",
      "height_mm                      0\n",
      "car_body_type                  0\n",
      "source_url                     0\n",
      "dtype: int64\n"
     ]
    }
   ],
   "source": [
    "print(\"Missing Values :\\n\")\n",
    "print(df.isnull().sum())\n",
    "\n"
   ]
  },
  {
   "cell_type": "code",
   "execution_count": 25,
   "id": "f1ad9eb4",
   "metadata": {},
   "outputs": [
    {
     "name": "stdout",
     "output_type": "stream",
     "text": [
      "Duplicated :\n",
      "0\n"
     ]
    }
   ],
   "source": [
    "print(\"Duplicated :\")\n",
    "print(df.duplicated().sum())"
   ]
  },
  {
   "cell_type": "code",
   "execution_count": 26,
   "id": "20b576f9",
   "metadata": {},
   "outputs": [
    {
     "name": "stdout",
     "output_type": "stream",
     "text": [
      "Statistics Resume:\n"
     ]
    },
    {
     "data": {
      "text/html": [
       "<div>\n",
       "<style scoped>\n",
       "    .dataframe tbody tr th:only-of-type {\n",
       "        vertical-align: middle;\n",
       "    }\n",
       "\n",
       "    .dataframe tbody tr th {\n",
       "        vertical-align: top;\n",
       "    }\n",
       "\n",
       "    .dataframe thead th {\n",
       "        text-align: right;\n",
       "    }\n",
       "</style>\n",
       "<table border=\"1\" class=\"dataframe\">\n",
       "  <thead>\n",
       "    <tr style=\"text-align: right;\">\n",
       "      <th></th>\n",
       "      <th>top_speed_kmh</th>\n",
       "      <th>battery_capacity_kWh</th>\n",
       "      <th>number_of_cells</th>\n",
       "      <th>torque_nm</th>\n",
       "      <th>efficiency_wh_per_km</th>\n",
       "      <th>range_km</th>\n",
       "      <th>acceleration_0_100_s</th>\n",
       "      <th>fast_charging_power_kw_dc</th>\n",
       "      <th>towing_capacity_kg</th>\n",
       "      <th>seats</th>\n",
       "      <th>length_mm</th>\n",
       "      <th>width_mm</th>\n",
       "      <th>height_mm</th>\n",
       "    </tr>\n",
       "  </thead>\n",
       "  <tbody>\n",
       "    <tr>\n",
       "      <th>count</th>\n",
       "      <td>478.000000</td>\n",
       "      <td>478.000000</td>\n",
       "      <td>276.000000</td>\n",
       "      <td>471.000000</td>\n",
       "      <td>478.000000</td>\n",
       "      <td>478.000000</td>\n",
       "      <td>478.000000</td>\n",
       "      <td>477.000000</td>\n",
       "      <td>452.000000</td>\n",
       "      <td>478.000000</td>\n",
       "      <td>478.000000</td>\n",
       "      <td>478.000000</td>\n",
       "      <td>478.000000</td>\n",
       "    </tr>\n",
       "    <tr>\n",
       "      <th>mean</th>\n",
       "      <td>185.487448</td>\n",
       "      <td>74.043724</td>\n",
       "      <td>485.293478</td>\n",
       "      <td>498.012739</td>\n",
       "      <td>162.903766</td>\n",
       "      <td>393.179916</td>\n",
       "      <td>6.882636</td>\n",
       "      <td>125.008386</td>\n",
       "      <td>1052.261062</td>\n",
       "      <td>5.263598</td>\n",
       "      <td>4678.506276</td>\n",
       "      <td>1887.359833</td>\n",
       "      <td>1601.125523</td>\n",
       "    </tr>\n",
       "    <tr>\n",
       "      <th>std</th>\n",
       "      <td>34.252773</td>\n",
       "      <td>20.331058</td>\n",
       "      <td>1210.819733</td>\n",
       "      <td>241.461128</td>\n",
       "      <td>34.317532</td>\n",
       "      <td>103.287335</td>\n",
       "      <td>2.730696</td>\n",
       "      <td>58.205012</td>\n",
       "      <td>737.851774</td>\n",
       "      <td>1.003961</td>\n",
       "      <td>369.210573</td>\n",
       "      <td>73.656807</td>\n",
       "      <td>130.754851</td>\n",
       "    </tr>\n",
       "    <tr>\n",
       "      <th>min</th>\n",
       "      <td>125.000000</td>\n",
       "      <td>21.300000</td>\n",
       "      <td>72.000000</td>\n",
       "      <td>113.000000</td>\n",
       "      <td>109.000000</td>\n",
       "      <td>135.000000</td>\n",
       "      <td>2.200000</td>\n",
       "      <td>29.000000</td>\n",
       "      <td>0.000000</td>\n",
       "      <td>2.000000</td>\n",
       "      <td>3620.000000</td>\n",
       "      <td>1610.000000</td>\n",
       "      <td>1329.000000</td>\n",
       "    </tr>\n",
       "    <tr>\n",
       "      <th>25%</th>\n",
       "      <td>160.000000</td>\n",
       "      <td>60.000000</td>\n",
       "      <td>150.000000</td>\n",
       "      <td>305.000000</td>\n",
       "      <td>143.000000</td>\n",
       "      <td>320.000000</td>\n",
       "      <td>4.800000</td>\n",
       "      <td>80.000000</td>\n",
       "      <td>500.000000</td>\n",
       "      <td>5.000000</td>\n",
       "      <td>4440.000000</td>\n",
       "      <td>1849.000000</td>\n",
       "      <td>1514.000000</td>\n",
       "    </tr>\n",
       "    <tr>\n",
       "      <th>50%</th>\n",
       "      <td>180.000000</td>\n",
       "      <td>76.150000</td>\n",
       "      <td>216.000000</td>\n",
       "      <td>430.000000</td>\n",
       "      <td>155.000000</td>\n",
       "      <td>397.500000</td>\n",
       "      <td>6.600000</td>\n",
       "      <td>113.000000</td>\n",
       "      <td>1000.000000</td>\n",
       "      <td>5.000000</td>\n",
       "      <td>4720.000000</td>\n",
       "      <td>1890.000000</td>\n",
       "      <td>1596.000000</td>\n",
       "    </tr>\n",
       "    <tr>\n",
       "      <th>75%</th>\n",
       "      <td>201.000000</td>\n",
       "      <td>90.600000</td>\n",
       "      <td>324.000000</td>\n",
       "      <td>679.000000</td>\n",
       "      <td>177.750000</td>\n",
       "      <td>470.000000</td>\n",
       "      <td>8.200000</td>\n",
       "      <td>150.000000</td>\n",
       "      <td>1600.000000</td>\n",
       "      <td>5.000000</td>\n",
       "      <td>4961.000000</td>\n",
       "      <td>1939.000000</td>\n",
       "      <td>1665.000000</td>\n",
       "    </tr>\n",
       "    <tr>\n",
       "      <th>max</th>\n",
       "      <td>325.000000</td>\n",
       "      <td>118.000000</td>\n",
       "      <td>7920.000000</td>\n",
       "      <td>1350.000000</td>\n",
       "      <td>370.000000</td>\n",
       "      <td>685.000000</td>\n",
       "      <td>19.100000</td>\n",
       "      <td>281.000000</td>\n",
       "      <td>2500.000000</td>\n",
       "      <td>9.000000</td>\n",
       "      <td>5908.000000</td>\n",
       "      <td>2080.000000</td>\n",
       "      <td>1986.000000</td>\n",
       "    </tr>\n",
       "  </tbody>\n",
       "</table>\n",
       "</div>"
      ],
      "text/plain": [
       "       top_speed_kmh  battery_capacity_kWh  number_of_cells    torque_nm  \\\n",
       "count     478.000000            478.000000       276.000000   471.000000   \n",
       "mean      185.487448             74.043724       485.293478   498.012739   \n",
       "std        34.252773             20.331058      1210.819733   241.461128   \n",
       "min       125.000000             21.300000        72.000000   113.000000   \n",
       "25%       160.000000             60.000000       150.000000   305.000000   \n",
       "50%       180.000000             76.150000       216.000000   430.000000   \n",
       "75%       201.000000             90.600000       324.000000   679.000000   \n",
       "max       325.000000            118.000000      7920.000000  1350.000000   \n",
       "\n",
       "       efficiency_wh_per_km    range_km  acceleration_0_100_s  \\\n",
       "count            478.000000  478.000000            478.000000   \n",
       "mean             162.903766  393.179916              6.882636   \n",
       "std               34.317532  103.287335              2.730696   \n",
       "min              109.000000  135.000000              2.200000   \n",
       "25%              143.000000  320.000000              4.800000   \n",
       "50%              155.000000  397.500000              6.600000   \n",
       "75%              177.750000  470.000000              8.200000   \n",
       "max              370.000000  685.000000             19.100000   \n",
       "\n",
       "       fast_charging_power_kw_dc  towing_capacity_kg       seats    length_mm  \\\n",
       "count                 477.000000          452.000000  478.000000   478.000000   \n",
       "mean                  125.008386         1052.261062    5.263598  4678.506276   \n",
       "std                    58.205012          737.851774    1.003961   369.210573   \n",
       "min                    29.000000            0.000000    2.000000  3620.000000   \n",
       "25%                    80.000000          500.000000    5.000000  4440.000000   \n",
       "50%                   113.000000         1000.000000    5.000000  4720.000000   \n",
       "75%                   150.000000         1600.000000    5.000000  4961.000000   \n",
       "max                   281.000000         2500.000000    9.000000  5908.000000   \n",
       "\n",
       "          width_mm    height_mm  \n",
       "count   478.000000   478.000000  \n",
       "mean   1887.359833  1601.125523  \n",
       "std      73.656807   130.754851  \n",
       "min    1610.000000  1329.000000  \n",
       "25%    1849.000000  1514.000000  \n",
       "50%    1890.000000  1596.000000  \n",
       "75%    1939.000000  1665.000000  \n",
       "max    2080.000000  1986.000000  "
      ]
     },
     "metadata": {},
     "output_type": "display_data"
    }
   ],
   "source": [
    "print(\"Statistics Resume:\")\n",
    "display(df.describe())"
   ]
  },
  {
   "cell_type": "markdown",
   "id": "f03995f1",
   "metadata": {},
   "source": [
    "## Cleaned Data"
   ]
  },
  {
   "cell_type": "code",
   "execution_count": 31,
   "id": "c48a5e9a",
   "metadata": {},
   "outputs": [
    {
     "name": "stdout",
     "output_type": "stream",
     "text": [
      "Number of rows and columns after dropping missing values:\n",
      "\n",
      "brand                        0\n",
      "model                        0\n",
      "top_speed_kmh                0\n",
      "battery_capacity_kWh         0\n",
      "battery_type                 0\n",
      "number_of_cells              0\n",
      "torque_nm                    0\n",
      "efficiency_wh_per_km         0\n",
      "range_km                     0\n",
      "acceleration_0_100_s         0\n",
      "fast_charging_power_kw_dc    0\n",
      "fast_charge_port             0\n",
      "towing_capacity_kg           0\n",
      "cargo_volume_l               0\n",
      "seats                        0\n",
      "drivetrain                   0\n",
      "segment                      0\n",
      "length_mm                    0\n",
      "width_mm                     0\n",
      "height_mm                    0\n",
      "car_body_type                0\n",
      "source_url                   0\n",
      "dtype: int64\n"
     ]
    }
   ],
   "source": [
    "df_cleaned = df.dropna()\n",
    "print(\"Number of rows and columns after dropping missing values:\\n\")\n",
    "print(df_cleaned.isnull().sum())"
   ]
  },
  {
   "cell_type": "code",
   "execution_count": 35,
   "id": "e4112d56",
   "metadata": {},
   "outputs": [
    {
     "name": "stdout",
     "output_type": "stream",
     "text": [
      "Cleaned data successfully saved!\n",
      "\n"
     ]
    }
   ],
   "source": [
    "df_cleaned.to_csv(\"ev_data_cleaned.csv\", index=False)\n",
    "print(\"Cleaned data successfully saved!\\n\")\n"
   ]
  }
 ],
 "metadata": {
  "kernelspec": {
   "display_name": "Python 3",
   "language": "python",
   "name": "python3"
  },
  "language_info": {
   "codemirror_mode": {
    "name": "ipython",
    "version": 3
   },
   "file_extension": ".py",
   "mimetype": "text/x-python",
   "name": "python",
   "nbconvert_exporter": "python",
   "pygments_lexer": "ipython3",
   "version": "3.12.10"
  }
 },
 "nbformat": 4,
 "nbformat_minor": 5
}
